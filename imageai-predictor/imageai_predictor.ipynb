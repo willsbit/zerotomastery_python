{
  "nbformat": 4,
  "nbformat_minor": 0,
  "metadata": {
    "colab": {
      "name": "imageai-predictor.ipynb",
      "provenance": [],
      "collapsed_sections": []
    },
    "kernelspec": {
      "name": "python3",
      "display_name": "Python 3"
    },
    "language_info": {
      "name": "python"
    }
  },
  "cells": [
    {
      "cell_type": "code",
      "execution_count": null,
      "metadata": {
        "id": "UZ35pBfuvkKv"
      },
      "outputs": [],
      "source": [
        "!pip install -U tensorflow keras opencv-python\n",
        "!pip install imageai --upgrade"
      ]
    },
    {
      "cell_type": "code",
      "source": [
        "from imageai.Prediction import ImagePrediction\n",
        "import os\n",
        "execution_path = os.getcwd()\n",
        "\n",
        "prediction = ImagePrediction()\n",
        "prediction.setModelTypeAsMobileNetV2()\n",
        "prediction.setModelPath(os.path.join(execution_path, \"mobilenet_v2.h5\"))\n",
        "prediction.loadModel()"
      ],
      "metadata": {
        "colab": {
          "base_uri": "https://localhost:8080/"
        },
        "id": "oLpAWZV5wAhu",
        "outputId": "63d5ce0f-f0d2-45a5-80da-684dc4fecc9c"
      },
      "execution_count": 5,
      "outputs": [
        {
          "output_type": "stream",
          "name": "stdout",
          "text": [
            "common_iguana  :  21.15398645401001\n",
            "American_alligator  :  20.261697471141815\n",
            "pedestal  :  3.0507877469062805\n",
            "triceratops  :  2.9542148113250732\n",
            "African_crocodile  :  1.9031662493944168\n"
          ]
        }
      ]
    },
    {
      "cell_type": "code",
      "source": [
        "predictions, probabilities = prediction.classifyImage(os.path.join(execution_path, \"giraffe.jpg\"), result_count=5)\n",
        "for eachPrediction, eachProbability in zip(predictions, probabilities):\n",
        "    print(eachPrediction , \" : \" , eachProbability)"
      ],
      "metadata": {
        "colab": {
          "base_uri": "https://localhost:8080/"
        },
        "id": "dOalMZB7x6an",
        "outputId": "45ffdea1-90c1-499a-9c37-4c926ebead33"
      },
      "execution_count": 6,
      "outputs": [
        {
          "output_type": "stream",
          "name": "stdout",
          "text": [
            "leopard  :  1.8417326733469963\n",
            "lynx  :  1.8286226317286491\n",
            "cheetah  :  1.8222680315375328\n",
            "jaguar  :  1.6499174758791924\n",
            "impala  :  0.8933966979384422\n"
          ]
        }
      ]
    },
    {
      "cell_type": "code",
      "source": [
        "predictions, probabilities = prediction.classifyImage(os.path.join(execution_path, \"godzilla.jpg\"), result_count=5)\n",
        "for eachPrediction, eachProbability in zip(predictions, probabilities):\n",
        "    print(eachPrediction , \" : \" , eachProbability)"
      ],
      "metadata": {
        "colab": {
          "base_uri": "https://localhost:8080/"
        },
        "id": "I5m0GUGAx6zc",
        "outputId": "1d45eb91-8872-4b45-87e7-c063d5ca9e2f"
      },
      "execution_count": 7,
      "outputs": [
        {
          "output_type": "stream",
          "name": "stdout",
          "text": [
            "common_iguana  :  21.15398645401001\n",
            "American_alligator  :  20.261697471141815\n",
            "pedestal  :  3.0507877469062805\n",
            "triceratops  :  2.9542148113250732\n",
            "African_crocodile  :  1.9031662493944168\n"
          ]
        }
      ]
    },
    {
      "cell_type": "code",
      "source": [
        "predictions, probabilities = prediction.classifyImage(os.path.join(execution_path, \"house.jpg\"), result_count=5)\n",
        "for eachPrediction, eachProbability in zip(predictions, probabilities):\n",
        "    print(eachPrediction , \" : \" , eachProbability)"
      ],
      "metadata": {
        "colab": {
          "base_uri": "https://localhost:8080/"
        },
        "id": "SQCCV6vHx69O",
        "outputId": "ff6559b4-363d-406e-8cbb-3769ad1c1500"
      },
      "execution_count": 8,
      "outputs": [
        {
          "output_type": "stream",
          "name": "stdout",
          "text": [
            "boathouse  :  20.541691780090332\n",
            "church  :  9.800785779953003\n",
            "palace  :  5.933242663741112\n",
            "lakeside  :  2.952352911233902\n",
            "flagpole  :  2.0636452361941338\n"
          ]
        }
      ]
    }
  ]
}